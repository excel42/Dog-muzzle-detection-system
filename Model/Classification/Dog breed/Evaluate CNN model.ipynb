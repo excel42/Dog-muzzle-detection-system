{
 "cells": [
  {
   "cell_type": "code",
   "execution_count": 46,
   "metadata": {},
   "outputs": [],
   "source": [
    "from keras.models import load_model\n",
    "from keras.preprocessing.image import ImageDataGenerator\n",
    "import pandas as pd\n",
    "import numpy as np\n",
    "from PIL import Image\n",
    "import matplotlib.pyplot as plt\n",
    "%matplotlib inline\n",
    "import os\n",
    "from sklearn.metrics import confusion_matrix\n",
    "from tqdm.notebook import tqdm"
   ]
  },
  {
   "cell_type": "code",
   "execution_count": 2,
   "metadata": {},
   "outputs": [
    {
     "name": "stdout",
     "output_type": "stream",
     "text": [
      "WARNING:tensorflow:From /home/compu/anaconda3/envs/tf115/lib/python3.7/site-packages/tensorflow_core/python/ops/resource_variable_ops.py:1630: calling BaseResourceVariable.__init__ (from tensorflow.python.ops.resource_variable_ops) with constraint is deprecated and will be removed in a future version.\n",
      "Instructions for updating:\n",
      "If using Keras pass *_constraint arguments to layers.\n",
      "WARNING:tensorflow:From /home/compu/anaconda3/envs/tf115/lib/python3.7/site-packages/keras/backend/tensorflow_backend.py:4070: The name tf.nn.max_pool is deprecated. Please use tf.nn.max_pool2d instead.\n",
      "\n",
      "WARNING:tensorflow:From /home/compu/anaconda3/envs/tf115/lib/python3.7/site-packages/keras/backend/tensorflow_backend.py:4074: The name tf.nn.avg_pool is deprecated. Please use tf.nn.avg_pool2d instead.\n",
      "\n",
      "WARNING:tensorflow:From /home/compu/anaconda3/envs/tf115/lib/python3.7/site-packages/keras/backend/tensorflow_backend.py:422: The name tf.global_variables is deprecated. Please use tf.compat.v1.global_variables instead.\n",
      "\n"
     ]
    }
   ],
   "source": [
    "model = load_model('model_best.h5')"
   ]
  },
  {
   "cell_type": "code",
   "execution_count": 3,
   "metadata": {},
   "outputs": [],
   "source": [
    "unique_breeds = pd.read_csv('encoding_label.csv')\n",
    "unique_breeds = unique_breeds.drop('Unnamed: 0', axis=1)"
   ]
  },
  {
   "cell_type": "code",
   "execution_count": 37,
   "metadata": {},
   "outputs": [],
   "source": [
    "breed_list = os.listdir('./dataset/test')"
   ]
  },
  {
   "cell_type": "code",
   "execution_count": 39,
   "metadata": {},
   "outputs": [],
   "source": [
    "fierce_dog = ['american_staffordshire_terrier', 'japanese_mastiff', 'pitbull_terrier', 'rottweiler', 'staffordshire_bullterrier']"
   ]
  },
  {
   "cell_type": "code",
   "execution_count": 42,
   "metadata": {},
   "outputs": [],
   "source": [
    "def transfer_image(img):\n",
    "    resize = img.resize((224, 224))\n",
    "    resize = np.array(resize)/255.\n",
    "    resize = resize.reshape(1, 224, 224, 3)\n",
    "    return resize"
   ]
  },
  {
   "cell_type": "code",
   "execution_count": 43,
   "metadata": {},
   "outputs": [],
   "source": [
    "def get_pred_label(pred_prob):\n",
    "    return unique_breeds.iloc[np.argmax(pred_prob)]['breed']"
   ]
  },
  {
   "cell_type": "code",
   "execution_count": 47,
   "metadata": {},
   "outputs": [
    {
     "data": {
      "application/vnd.jupyter.widget-view+json": {
       "model_id": "732998578ae241f69f4699b1deaed10c",
       "version_major": 2,
       "version_minor": 0
      },
      "text/plain": [
       "  0%|          | 0/122 [00:00<?, ?it/s]"
      ]
     },
     "metadata": {},
     "output_type": "display_data"
    }
   ],
   "source": [
    "y_pred = []\n",
    "y_true = []\n",
    "\n",
    "for breed in tqdm(breed_list):\n",
    "    path = ('./dataset/test/{}'.format(breed))\n",
    "    filenames = os.listdir(path)\n",
    "    for filename in filenames:\n",
    "        path = ('./dataset/test/{}/{}'.format(breed, filename))\n",
    "        img = Image.open(path)\n",
    "        resize = transfer_image(img)\n",
    "\n",
    "        pred_prob = model.predict(resize)\n",
    "        pred_label = get_pred_label(pred_prob)\n",
    "        \n",
    "        y_pred.append(pred_label)\n",
    "        y_true.append(breed)"
   ]
  },
  {
   "cell_type": "code",
   "execution_count": null,
   "metadata": {},
   "outputs": [],
   "source": [
    "'''\n",
    "                             Actual\n",
    "                             \n",
    "                        Positive    Negative\n",
    "    \n",
    "Predicted    Positive     TP          FP\n",
    "\n",
    "\n",
    "             Negative     FN          TN\n",
    "'''"
   ]
  },
  {
   "cell_type": "code",
   "execution_count": 62,
   "metadata": {},
   "outputs": [],
   "source": [
    "# 전체 혼동행렬\n",
    "\n",
    "TP = []\n",
    "FP = []\n",
    "FN = []\n",
    "TN = []\n",
    "\n",
    "for breed in zip(y_pred, y_true):\n",
    "    if breed[0] in fierce_dog:\n",
    "        if breed[1] in fierce_dog:\n",
    "            TP.append(1)\n",
    "        else:\n",
    "            FP.append(1)\n",
    "    else:\n",
    "        if breed[1] in fierce_dog:\n",
    "            FN.append(1)\n",
    "        else:\n",
    "            TN.append(1)"
   ]
  },
  {
   "cell_type": "code",
   "execution_count": 63,
   "metadata": {},
   "outputs": [],
   "source": [
    "TP = sum(TP)\n",
    "FP = sum(FP)\n",
    "FN = sum(FN)\n",
    "TN = sum(TN)"
   ]
  },
  {
   "cell_type": "code",
   "execution_count": 64,
   "metadata": {},
   "outputs": [],
   "source": [
    "Precision = TP/(TP+FP)\n",
    "Negative_Predictive_value = TN/(TN+FN)\n",
    "Sensitivity = TP/(TP+FN)\n",
    "Specificity = TN/(TN+FP)\n",
    "Accuracy = (TP+TN)/(TP+TN+FP+FN)"
   ]
  },
  {
   "cell_type": "code",
   "execution_count": 85,
   "metadata": {},
   "outputs": [
    {
     "name": "stdout",
     "output_type": "stream",
     "text": [
      "Precision : 0.937\n",
      "Negative_Predictive_value : 0.997\n",
      "Sensitivity : 0.957\n",
      "Specificity : 0.995\n",
      "Accuracy : 0.993\n"
     ]
    }
   ],
   "source": [
    "lst = ['Precision', 'Negative_Predictive_value', 'Sensitivity', 'Specificity', 'Accuracy']\n",
    "for i, j in enumerate([Precision, Negative_Predictive_value, Sensitivity, Specificity, Accuracy]):\n",
    "    print('{} :'.format(lst[i]), round(j, 3))"
   ]
  },
  {
   "cell_type": "code",
   "execution_count": null,
   "metadata": {},
   "outputs": [],
   "source": [
    "result = []\n",
    "for breed in zip(y_pred, y_true):\n",
    "    if (breed[0] in fierce_dog) | (breed[1] in fierce_dog):\n",
    "        result.append(breed)"
   ]
  },
  {
   "cell_type": "code",
   "execution_count": 75,
   "metadata": {},
   "outputs": [],
   "source": [
    "# 맹견 혼동행렬\n",
    "\n",
    "accuracy = []\n",
    "for pred, true in result:\n",
    "    if pred == true:\n",
    "        accuracy.append(1)"
   ]
  },
  {
   "cell_type": "code",
   "execution_count": 78,
   "metadata": {},
   "outputs": [],
   "source": [
    "accuracy = sum(accuracy) / len(result)"
   ]
  },
  {
   "cell_type": "code",
   "execution_count": 86,
   "metadata": {},
   "outputs": [
    {
     "data": {
      "text/plain": [
       "0.811"
      ]
     },
     "execution_count": 86,
     "metadata": {},
     "output_type": "execute_result"
    }
   ],
   "source": [
    "round(accuracy, 3)"
   ]
  }
 ],
 "metadata": {
  "kernelspec": {
   "display_name": "tf115",
   "language": "python",
   "name": "tf115"
  },
  "language_info": {
   "codemirror_mode": {
    "name": "ipython",
    "version": 3
   },
   "file_extension": ".py",
   "mimetype": "text/x-python",
   "name": "python",
   "nbconvert_exporter": "python",
   "pygments_lexer": "ipython3",
   "version": "3.6.13"
  }
 },
 "nbformat": 4,
 "nbformat_minor": 5
}
